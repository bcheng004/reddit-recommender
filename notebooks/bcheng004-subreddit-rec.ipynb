{
  "cells": [
    {
      "cell_type": "code",
      "source": [
        "%load_ext autoreload\n",
        "%autoreload 2\n",
        "import warnings \n",
        "warnings.simplefilter(action='ignore')\n",
        "!python --version"
      ],
      "outputs": [
        {
          "output_type": "stream",
          "name": "stdout",
          "text": "Python 3.6.9 :: Anaconda, Inc.\r\n"
        }
      ],
      "execution_count": 1,
      "metadata": {
        "gather": {
          "logged": 1639358041378
        }
      }
    },
    {
      "cell_type": "code",
      "source": [
        "%%writefile conda_dependencies.yml\n",
        "dependencies:\n",
        "    - python=3.6.9\n",
        "    - numpy=1.18.*\n",
        "    - pandas=0.25.*\n",
        "    - pip:\n",
        "        - azureml-defaults==1.34.0\n",
        "        - confuse==1.6.0\n",
        "        - icecream==2.1.1\n",
        "        - plotly==5.3.1\n",
        "        - scikit-surprise==1.1.1\n",
        "        - kaggle==1.5.12"
      ],
      "outputs": [
        {
          "output_type": "stream",
          "name": "stdout",
          "text": "Writing conda_dependencies.yml\n"
        }
      ],
      "execution_count": 2,
      "metadata": {
        "jupyter": {
          "outputs_hidden": false,
          "source_hidden": false
        },
        "nteract": {
          "transient": {
            "deleting": false
          }
        }
      }
    },
    {
      "cell_type": "code",
      "source": [
        "%%writefile requirements.txt\n",
        "confuse==1.6.0\n",
        "icecream==2.1.1\n",
        "plotly==5.3.1\n",
        "kaleido==0.2.1\n",
        "scikit-surprise==1.1.1\n",
        "kaggle==1.5.12"
      ],
      "outputs": [
        {
          "output_type": "stream",
          "name": "stdout",
          "text": "Writing requirements.txt\n"
        }
      ],
      "execution_count": 3,
      "metadata": {
        "jupyter": {
          "outputs_hidden": false,
          "source_hidden": false
        },
        "nteract": {
          "transient": {
            "deleting": false
          }
        }
      }
    },
    {
      "cell_type": "markdown",
      "source": [
        "### Leverage Kaggle API for Subreddit Dataset"
      ],
      "metadata": {}
    },
    {
      "cell_type": "code",
      "source": [
        "!pip3 install -r requirements.txt"
      ],
      "outputs": [
        {
          "output_type": "stream",
          "name": "stdout",
          "text": "Requirement already satisfied: confuse==1.6.0 in /anaconda/envs/azureml_py36/lib/python3.6/site-packages (from -r requirements.txt (line 1)) (1.6.0)\nRequirement already satisfied: icecream==2.1.1 in /anaconda/envs/azureml_py36/lib/python3.6/site-packages (from -r requirements.txt (line 2)) (2.1.1)\nRequirement already satisfied: plotly==5.3.1 in /anaconda/envs/azureml_py36/lib/python3.6/site-packages (from -r requirements.txt (line 3)) (5.3.1)\nRequirement already satisfied: kaleido==0.2.1 in /anaconda/envs/azureml_py36/lib/python3.6/site-packages (from -r requirements.txt (line 4)) (0.2.1)\nRequirement already satisfied: scikit-surprise==1.1.1 in /anaconda/envs/azureml_py36/lib/python3.6/site-packages (from -r requirements.txt (line 5)) (1.1.1)\nRequirement already satisfied: kaggle==1.5.12 in /anaconda/envs/azureml_py36/lib/python3.6/site-packages (from -r requirements.txt (line 6)) (1.5.12)\nRequirement already satisfied: pyyaml in /anaconda/envs/azureml_py36/lib/python3.6/site-packages (from confuse==1.6.0->-r requirements.txt (line 1)) (6.0)\nRequirement already satisfied: executing>=0.3.1 in /anaconda/envs/azureml_py36/lib/python3.6/site-packages (from icecream==2.1.1->-r requirements.txt (line 2)) (0.8.2)\nRequirement already satisfied: pygments>=2.2.0 in /anaconda/envs/azureml_py36/lib/python3.6/site-packages (from icecream==2.1.1->-r requirements.txt (line 2)) (2.10.0)\nRequirement already satisfied: asttokens>=2.0.1 in /anaconda/envs/azureml_py36/lib/python3.6/site-packages (from icecream==2.1.1->-r requirements.txt (line 2)) (2.0.5)\nRequirement already satisfied: colorama>=0.3.9 in /anaconda/envs/azureml_py36/lib/python3.6/site-packages (from icecream==2.1.1->-r requirements.txt (line 2)) (0.4.4)\nRequirement already satisfied: tenacity>=6.2.0 in /anaconda/envs/azureml_py36/lib/python3.6/site-packages (from plotly==5.3.1->-r requirements.txt (line 3)) (8.0.1)\nRequirement already satisfied: six in /anaconda/envs/azureml_py36/lib/python3.6/site-packages (from plotly==5.3.1->-r requirements.txt (line 3)) (1.16.0)\nRequirement already satisfied: numpy>=1.11.2 in /anaconda/envs/azureml_py36/lib/python3.6/site-packages (from scikit-surprise==1.1.1->-r requirements.txt (line 5)) (1.18.5)\nRequirement already satisfied: scipy>=1.0.0 in /anaconda/envs/azureml_py36/lib/python3.6/site-packages (from scikit-surprise==1.1.1->-r requirements.txt (line 5)) (1.5.2)\nRequirement already satisfied: joblib>=0.11 in /anaconda/envs/azureml_py36/lib/python3.6/site-packages (from scikit-surprise==1.1.1->-r requirements.txt (line 5)) (0.14.1)\nRequirement already satisfied: certifi in /anaconda/envs/azureml_py36/lib/python3.6/site-packages (from kaggle==1.5.12->-r requirements.txt (line 6)) (2021.10.8)\nRequirement already satisfied: urllib3 in /anaconda/envs/azureml_py36/lib/python3.6/site-packages (from kaggle==1.5.12->-r requirements.txt (line 6)) (1.25.11)\nRequirement already satisfied: python-dateutil in /anaconda/envs/azureml_py36/lib/python3.6/site-packages (from kaggle==1.5.12->-r requirements.txt (line 6)) (2.8.2)\nRequirement already satisfied: python-slugify in /anaconda/envs/azureml_py36/lib/python3.6/site-packages (from kaggle==1.5.12->-r requirements.txt (line 6)) (5.0.2)\nRequirement already satisfied: requests in /anaconda/envs/azureml_py36/lib/python3.6/site-packages (from kaggle==1.5.12->-r requirements.txt (line 6)) (2.26.0)\nRequirement already satisfied: tqdm in /anaconda/envs/azureml_py36/lib/python3.6/site-packages (from kaggle==1.5.12->-r requirements.txt (line 6)) (4.62.3)\nRequirement already satisfied: text-unidecode>=1.3 in /anaconda/envs/azureml_py36/lib/python3.6/site-packages (from python-slugify->kaggle==1.5.12->-r requirements.txt (line 6)) (1.3)\nRequirement already satisfied: idna<4,>=2.5; python_version >= \"3\" in /anaconda/envs/azureml_py36/lib/python3.6/site-packages (from requests->kaggle==1.5.12->-r requirements.txt (line 6)) (3.3)\nRequirement already satisfied: charset-normalizer~=2.0.0; python_version >= \"3\" in /anaconda/envs/azureml_py36/lib/python3.6/site-packages (from requests->kaggle==1.5.12->-r requirements.txt (line 6)) (2.0.7)\n"
        }
      ],
      "execution_count": 5,
      "metadata": {}
    },
    {
      "cell_type": "code",
      "source": [
        "import confuse\r\n",
        "\r\n",
        "config = confuse.Configuration('redditrec',__name__)\r\n",
        "config.set_file('config-subreddit.yaml')"
      ],
      "outputs": [],
      "execution_count": 37,
      "metadata": {
        "jupyter": {
          "source_hidden": false,
          "outputs_hidden": false
        },
        "nteract": {
          "transient": {
            "deleting": false
          }
        },
        "gather": {
          "logged": 1639361173557
        }
      }
    },
    {
      "cell_type": "code",
      "source": [
        "import json\n",
        "from kaggle.api.kaggle_api_extended import KaggleApi\n",
        "\n",
        "with open('kaggle.json') as k_f:\n",
        "    k_config_data = json.load(k_f)\n",
        "k_api = KaggleApi()\n",
        "k_api._load_config(config_data=k_config_data)"
      ],
      "outputs": [],
      "execution_count": 9,
      "metadata": {
        "gather": {
          "logged": 1639358293649
        }
      }
    },
    {
      "cell_type": "code",
      "source": [
        "from icecream import ic\n",
        "import os\n",
        "\n",
        "data_folder_name = config['folder_paths']['data_folder_name'].get()\n",
        "if not (os.path.exists(data_folder_name)):\n",
        "    os.mkdir(data_folder_name)\n",
        "os.chdir(data_folder_name)"
      ],
      "outputs": [],
      "execution_count": 31,
      "metadata": {
        "gather": {
          "logged": 1639360496568
        },
        "jupyter": {
          "outputs_hidden": false,
          "source_hidden": false
        },
        "nteract": {
          "transient": {
            "deleting": false
          }
        }
      }
    },
    {
      "cell_type": "code",
      "source": [
        "reference = k_api.datasets_list(search='Subreddit Recommender')[0]['ref']\n",
        "ic(reference);\n",
        "k_api.dataset_download_files(reference)"
      ],
      "outputs": [
        {
          "output_type": "stream",
          "name": "stderr",
          "text": "ic| reference: 'timschaum/subreddit-recommender'\n"
        }
      ],
      "execution_count": 11,
      "metadata": {
        "gather": {
          "logged": 1639358303157
        },
        "jupyter": {
          "outputs_hidden": false,
          "source_hidden": false
        },
        "nteract": {
          "transient": {
            "deleting": false
          }
        }
      }
    },
    {
      "cell_type": "code",
      "source": [
        "from zipfile import ZipFile\n",
        "\n",
        "zf_name = reference.split('/')[1] + '.zip'\n",
        "zf = ZipFile(zf_name)\n",
        "zf.extractall()\n",
        "zf.close()"
      ],
      "outputs": [],
      "execution_count": 12,
      "metadata": {
        "gather": {
          "logged": 1639358307762
        },
        "jupyter": {
          "outputs_hidden": false,
          "source_hidden": false
        },
        "nteract": {
          "transient": {
            "deleting": false
          }
        }
      }
    },
    {
      "cell_type": "code",
      "source": [
        "original_dir = os.path.dirname(os.getcwd())\n",
        "os.chdir(original_dir)"
      ],
      "outputs": [],
      "execution_count": 36,
      "metadata": {
        "gather": {
          "logged": 1639361168603
        },
        "jupyter": {
          "outputs_hidden": false,
          "source_hidden": false
        },
        "nteract": {
          "transient": {
            "deleting": false
          }
        }
      }
    },
    {
      "cell_type": "code",
      "source": [
        "import pandas as pd\r\n",
        "from IPython.display import display\r\n",
        "from icecream import ic\r\n",
        "\r\n",
        "subreddit_df = pd.read_csv(os.path.join(data_folder_name,'reddit_user_data_count.csv'))\r\n",
        "display(subreddit_df.head())\r\n",
        "ic(subreddit_df.shape);"
      ],
      "outputs": [
        {
          "output_type": "display_data",
          "data": {
            "text/plain": "                   user        subreddit  count\n0  ------Username------        AskReddit     20\n1  ------Username------            Barca      9\n2  ------Username------             FIFA      4\n3  ------Username------              MMA      5\n4  ------Username------  RioGrandeValley      3",
            "text/html": "<div>\n<style scoped>\n    .dataframe tbody tr th:only-of-type {\n        vertical-align: middle;\n    }\n\n    .dataframe tbody tr th {\n        vertical-align: top;\n    }\n\n    .dataframe thead th {\n        text-align: right;\n    }\n</style>\n<table border=\"1\" class=\"dataframe\">\n  <thead>\n    <tr style=\"text-align: right;\">\n      <th></th>\n      <th>user</th>\n      <th>subreddit</th>\n      <th>count</th>\n    </tr>\n  </thead>\n  <tbody>\n    <tr>\n      <th>0</th>\n      <td>------Username------</td>\n      <td>AskReddit</td>\n      <td>20</td>\n    </tr>\n    <tr>\n      <th>1</th>\n      <td>------Username------</td>\n      <td>Barca</td>\n      <td>9</td>\n    </tr>\n    <tr>\n      <th>2</th>\n      <td>------Username------</td>\n      <td>FIFA</td>\n      <td>4</td>\n    </tr>\n    <tr>\n      <th>3</th>\n      <td>------Username------</td>\n      <td>MMA</td>\n      <td>5</td>\n    </tr>\n    <tr>\n      <th>4</th>\n      <td>------Username------</td>\n      <td>RioGrandeValley</td>\n      <td>3</td>\n    </tr>\n  </tbody>\n</table>\n</div>"
          },
          "metadata": {}
        },
        {
          "output_type": "stream",
          "name": "stderr",
          "text": "ic| subreddit_df.shape: (1738737, 3)\n"
        }
      ],
      "execution_count": 21,
      "metadata": {
        "jupyter": {
          "source_hidden": false,
          "outputs_hidden": false
        },
        "nteract": {
          "transient": {
            "deleting": false
          }
        },
        "gather": {
          "logged": 1639359498055
        }
      }
    },
    {
      "cell_type": "code",
      "source": [
        "import plotly.graph_objects as go\r\n",
        "\r\n",
        "plot_output_folder = config['folder_paths']['plot_output_folder_name'].get()\r\n",
        "if not os.path.exists(plot_output_folder):\r\n",
        "    os.mkdir(plot_output_folder)\r\n",
        "group_col, count_col, top_n = 'user', 'count', 5\r\n",
        "hist_df = subreddit_df.groupby(by=[group_col])[count_col].sum()\\\r\n",
        ".sort_values(ascending=False)[0:top_n]\r\n",
        "hist_trace = go.Bar(\r\n",
        "    x = hist_df.index,\r\n",
        "    text = [f'{val:.1f}' for val in hist_df.values],\r\n",
        "    textposition = 'auto',\r\n",
        "    textfont = dict(color='blue'),\r\n",
        "    y = hist_df.values\r\n",
        ")\r\n",
        "hist_layout = dict(\r\n",
        "    title = f'Distribution of Top {top_n} Active {group_col}',\r\n",
        "    xaxis = dict(title=f'{group_col}'),\r\n",
        "    yaxis = dict(title='count')\r\n",
        ")\r\n",
        "fig = go.Figure(data=[hist_trace],layout=hist_layout)\r\n",
        "fig.write_image(os.path.join(plot_output_folder,f\"top_{top_n}_eda.png\"))"
      ],
      "outputs": [],
      "execution_count": 32,
      "metadata": {
        "jupyter": {
          "source_hidden": false,
          "outputs_hidden": false
        },
        "nteract": {
          "transient": {
            "deleting": false
          }
        },
        "gather": {
          "logged": 1639360971906
        }
      }
    },
    {
      "cell_type": "markdown",
      "source": [
        "### Azureml Workspace and Experiment"
      ],
      "metadata": {
        "nteract": {
          "transient": {
            "deleting": false
          }
        }
      }
    },
    {
      "cell_type": "code",
      "source": [
        "import azureml.core\r\n",
        "import numpy as np\r\n",
        "import logging\r\n",
        "from azureml.core import Workspace, Dataset, Experiment, Environment, Run\r\n",
        "\r\n",
        "ws = Workspace.from_config()\r\n",
        "experiment_name = config['azureml']['experiment_name'].get()\r\n",
        "experiment = Experiment(ws,name=experiment_name)\r\n",
        "env_name = config['azureml']['environment_name'].get()\r\n",
        "subreddit_env = Environment.from_conda_specification(name=env_name,file_path='./conda_dependencies.yml')"
      ],
      "outputs": [],
      "execution_count": 38,
      "metadata": {
        "jupyter": {
          "source_hidden": false,
          "outputs_hidden": false
        },
        "nteract": {
          "transient": {
            "deleting": false
          }
        },
        "gather": {
          "logged": 1639361178396
        }
      }
    }
  ],
  "metadata": {
    "interpreter": {
      "hash": "961fee12dacd1373a18d1b8aa10b592e6d87f8713f5cf1b9a971545ca71e0b61"
    },
    "kernel_info": {
      "name": "python3-azureml"
    },
    "kernelspec": {
      "name": "python3-azureml",
      "language": "python",
      "display_name": "Python 3.6 - AzureML"
    },
    "language_info": {
      "name": "python",
      "version": "3.6.9",
      "mimetype": "text/x-python",
      "codemirror_mode": {
        "name": "ipython",
        "version": 3
      },
      "pygments_lexer": "ipython3",
      "nbconvert_exporter": "python",
      "file_extension": ".py"
    },
    "microsoft": {
      "host": {
        "AzureML": {
          "notebookHasBeenCompleted": true
        }
      }
    },
    "nteract": {
      "version": "nteract-front-end@1.0.0"
    },
    "orig_nbformat": 4
  },
  "nbformat": 4,
  "nbformat_minor": 2
}