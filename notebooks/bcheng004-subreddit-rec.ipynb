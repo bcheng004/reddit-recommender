{
  "cells": [
    {
      "cell_type": "code",
      "execution_count": 1,
      "metadata": {
        "gather": {
          "logged": 1639343003977
        }
      },
      "outputs": [
        {
          "name": "stdout",
          "output_type": "stream",
          "text": [
            "Python 3.6.9 :: Anaconda, Inc.\r\n"
          ]
        }
      ],
      "source": [
        "%load_ext autoreload\n",
        "%autoreload 2\n",
        "import warnings \n",
        "warnings.simplefilter(action='ignore')\n",
        "!python --version"
      ]
    },
    {
      "cell_type": "code",
      "execution_count": 2,
      "metadata": {
        "jupyter": {
          "outputs_hidden": false,
          "source_hidden": false
        },
        "nteract": {
          "transient": {
            "deleting": false
          }
        }
      },
      "outputs": [
        {
          "name": "stdout",
          "output_type": "stream",
          "text": [
            "Overwriting conda_dependencies.yml\n"
          ]
        }
      ],
      "source": [
        "%%writefile conda_dependencies.yml\n",
        "dependencies:\n",
        "    - python=3.6.9\n",
        "    - numpy=1.18.*\n",
        "    - pandas=0.25.*\n",
        "    - pip:\n",
        "        - azureml-defaults==1.34.0\n",
        "        - confuse==1.6.0\n",
        "        - icecream==2.1.1\n",
        "        - plotly==5.3.1\n",
        "        - scikit-surprise==1.1.1\n",
        "        - kaggle==1.5.12"
      ]
    },
    {
      "cell_type": "code",
      "execution_count": 3,
      "metadata": {
        "jupyter": {
          "outputs_hidden": false,
          "source_hidden": false
        },
        "nteract": {
          "transient": {
            "deleting": false
          }
        }
      },
      "outputs": [
        {
          "name": "stdout",
          "output_type": "stream",
          "text": [
            "Overwriting requirements.txt\n"
          ]
        }
      ],
      "source": [
        "%%writefile requirements.txt\n",
        "confuse==1.6.0\n",
        "icecream==2.1.1\n",
        "plotly==5.3.1\n",
        "kaleido==0.2.1\n",
        "scikit-surprise==1.1.1\n",
        "kaggle==1.5.12"
      ]
    },
    {
      "cell_type": "markdown",
      "metadata": {},
      "source": [
        "### Leverage Kaggle API for Subreddit Dataset"
      ]
    },
    {
      "cell_type": "code",
      "execution_count": 5,
      "metadata": {},
      "outputs": [
        {
          "name": "stdout",
          "output_type": "stream",
          "text": [
            "Requirement already satisfied: confuse==1.6.0 in /anaconda/envs/azureml_py36/lib/python3.6/site-packages (from -r requirements.txt (line 1)) (1.6.0)\n",
            "Requirement already satisfied: icecream==2.1.1 in /anaconda/envs/azureml_py36/lib/python3.6/site-packages (from -r requirements.txt (line 2)) (2.1.1)\n",
            "Requirement already satisfied: plotly==5.3.1 in /anaconda/envs/azureml_py36/lib/python3.6/site-packages (from -r requirements.txt (line 3)) (5.3.1)\n",
            "Requirement already satisfied: kaleido==0.2.1 in /anaconda/envs/azureml_py36/lib/python3.6/site-packages (from -r requirements.txt (line 4)) (0.2.1)\n",
            "Requirement already satisfied: scikit-surprise==1.1.1 in /anaconda/envs/azureml_py36/lib/python3.6/site-packages (from -r requirements.txt (line 5)) (1.1.1)\n",
            "Requirement already satisfied: kaggle==1.5.12 in /anaconda/envs/azureml_py36/lib/python3.6/site-packages (from -r requirements.txt (line 6)) (1.5.12)\n",
            "Requirement already satisfied: pyyaml in /anaconda/envs/azureml_py36/lib/python3.6/site-packages (from confuse==1.6.0->-r requirements.txt (line 1)) (6.0)\n",
            "Requirement already satisfied: colorama>=0.3.9 in /anaconda/envs/azureml_py36/lib/python3.6/site-packages (from icecream==2.1.1->-r requirements.txt (line 2)) (0.4.4)\n",
            "Requirement already satisfied: pygments>=2.2.0 in /anaconda/envs/azureml_py36/lib/python3.6/site-packages (from icecream==2.1.1->-r requirements.txt (line 2)) (2.10.0)\n",
            "Requirement already satisfied: executing>=0.3.1 in /anaconda/envs/azureml_py36/lib/python3.6/site-packages (from icecream==2.1.1->-r requirements.txt (line 2)) (0.8.2)\n",
            "Requirement already satisfied: asttokens>=2.0.1 in /anaconda/envs/azureml_py36/lib/python3.6/site-packages (from icecream==2.1.1->-r requirements.txt (line 2)) (2.0.5)\n",
            "Requirement already satisfied: tenacity>=6.2.0 in /anaconda/envs/azureml_py36/lib/python3.6/site-packages (from plotly==5.3.1->-r requirements.txt (line 3)) (8.0.1)\n",
            "Requirement already satisfied: six in /anaconda/envs/azureml_py36/lib/python3.6/site-packages (from plotly==5.3.1->-r requirements.txt (line 3)) (1.16.0)\n",
            "Requirement already satisfied: joblib>=0.11 in /anaconda/envs/azureml_py36/lib/python3.6/site-packages (from scikit-surprise==1.1.1->-r requirements.txt (line 5)) (0.14.1)\n",
            "Requirement already satisfied: numpy>=1.11.2 in /anaconda/envs/azureml_py36/lib/python3.6/site-packages (from scikit-surprise==1.1.1->-r requirements.txt (line 5)) (1.18.5)\n",
            "Requirement already satisfied: scipy>=1.0.0 in /anaconda/envs/azureml_py36/lib/python3.6/site-packages (from scikit-surprise==1.1.1->-r requirements.txt (line 5)) (1.5.2)\n",
            "Requirement already satisfied: urllib3 in /anaconda/envs/azureml_py36/lib/python3.6/site-packages (from kaggle==1.5.12->-r requirements.txt (line 6)) (1.25.11)\n",
            "Requirement already satisfied: python-slugify in /anaconda/envs/azureml_py36/lib/python3.6/site-packages (from kaggle==1.5.12->-r requirements.txt (line 6)) (5.0.2)\n",
            "Requirement already satisfied: certifi in /anaconda/envs/azureml_py36/lib/python3.6/site-packages (from kaggle==1.5.12->-r requirements.txt (line 6)) (2021.10.8)\n",
            "Requirement already satisfied: requests in /anaconda/envs/azureml_py36/lib/python3.6/site-packages (from kaggle==1.5.12->-r requirements.txt (line 6)) (2.26.0)\n",
            "Requirement already satisfied: python-dateutil in /anaconda/envs/azureml_py36/lib/python3.6/site-packages (from kaggle==1.5.12->-r requirements.txt (line 6)) (2.8.2)\n",
            "Requirement already satisfied: tqdm in /anaconda/envs/azureml_py36/lib/python3.6/site-packages (from kaggle==1.5.12->-r requirements.txt (line 6)) (4.62.3)\n",
            "Requirement already satisfied: text-unidecode>=1.3 in /anaconda/envs/azureml_py36/lib/python3.6/site-packages (from python-slugify->kaggle==1.5.12->-r requirements.txt (line 6)) (1.3)\n",
            "Requirement already satisfied: charset-normalizer~=2.0.0; python_version >= \"3\" in /anaconda/envs/azureml_py36/lib/python3.6/site-packages (from requests->kaggle==1.5.12->-r requirements.txt (line 6)) (2.0.7)\n",
            "Requirement already satisfied: idna<4,>=2.5; python_version >= \"3\" in /anaconda/envs/azureml_py36/lib/python3.6/site-packages (from requests->kaggle==1.5.12->-r requirements.txt (line 6)) (3.3)\n"
          ]
        }
      ],
      "source": [
        "!pip3 install -r requirements.txt"
      ]
    },
    {
      "cell_type": "code",
      "execution_count": 3,
      "metadata": {
        "gather": {
          "logged": 1639343539138
        }
      },
      "outputs": [],
      "source": [
        "import json\n",
        "from kaggle.api.kaggle_api_extended import KaggleApi\n",
        "\n",
        "with open('kaggle.json') as k_f:\n",
        "    kaggle_auth = json.load(k_f)\n",
        "k_api = KaggleApi()\n",
        "k_api._load_config(config_data=kaggle_auth)"
      ]
    },
    {
      "cell_type": "code",
      "execution_count": 6,
      "metadata": {
        "gather": {
          "logged": 1639343557082
        },
        "jupyter": {
          "outputs_hidden": false,
          "source_hidden": false
        },
        "nteract": {
          "transient": {
            "deleting": false
          }
        }
      },
      "outputs": [],
      "source": [
        "from icecream import ic\n",
        "import os\n",
        "\n",
        "data_folder_name = 'data'\n",
        "if not (os.path.exists(data_folder_name)):\n",
        "    os.mkdir(data_folder_name)\n",
        "os.chdir(data_folder_name)"
      ]
    },
    {
      "cell_type": "code",
      "execution_count": 7,
      "metadata": {
        "gather": {
          "logged": 1639343563962
        },
        "jupyter": {
          "outputs_hidden": false,
          "source_hidden": false
        },
        "nteract": {
          "transient": {
            "deleting": false
          }
        }
      },
      "outputs": [
        {
          "name": "stderr",
          "output_type": "stream",
          "text": [
            "ic| reference: 'timschaum/subreddit-recommender'\n"
          ]
        }
      ],
      "source": [
        "reference = k_api.datasets_list(search='Subreddit Recommender')[0]['ref']\n",
        "ic(reference);\n",
        "k_api.dataset_download_files(reference)"
      ]
    },
    {
      "cell_type": "code",
      "execution_count": 42,
      "metadata": {
        "gather": {
          "logged": 1639341479584
        },
        "jupyter": {
          "outputs_hidden": false,
          "source_hidden": false
        },
        "nteract": {
          "transient": {
            "deleting": false
          }
        }
      },
      "outputs": [],
      "source": [
        "from zipfile import ZipFile\n",
        "\n",
        "zf_name = reference.split('/')[1] + '.zip'\n",
        "zf = ZipFile(zf_name)\n",
        "zf.extractall()\n",
        "zf.close()"
      ]
    },
    {
      "cell_type": "code",
      "execution_count": 7,
      "metadata": {
        "gather": {
          "logged": 1639343028311
        },
        "jupyter": {
          "outputs_hidden": false,
          "source_hidden": false
        },
        "nteract": {
          "transient": {
            "deleting": false
          }
        }
      },
      "outputs": [],
      "source": [
        "original_dir = os.path.dirname(os.getcwd())\n",
        "os.chdir(original_dir)"
      ]
    }
  ],
  "metadata": {
    "interpreter": {
      "hash": "961fee12dacd1373a18d1b8aa10b592e6d87f8713f5cf1b9a971545ca71e0b61"
    },
    "kernel_info": {
      "name": "python3-azureml"
    },
    "kernelspec": {
      "display_name": "Python 3.6 - AzureML",
      "language": "python",
      "name": "python3"
    },
    "language_info": {
      "codemirror_mode": {
        "name": "ipython",
        "version": 3
      },
      "file_extension": ".py",
      "mimetype": "text/x-python",
      "name": "python",
      "nbconvert_exporter": "python",
      "pygments_lexer": "ipython3",
      "version": "3.7.0"
    },
    "microsoft": {
      "host": {
        "AzureML": {
          "notebookHasBeenCompleted": true
        }
      }
    },
    "nteract": {
      "version": "nteract-front-end@1.0.0"
    },
    "orig_nbformat": 4
  },
  "nbformat": 4,
  "nbformat_minor": 2
}
